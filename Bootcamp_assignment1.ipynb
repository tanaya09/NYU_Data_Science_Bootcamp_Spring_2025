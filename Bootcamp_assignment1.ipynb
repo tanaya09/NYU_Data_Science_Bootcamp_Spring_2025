{
 "cells": [
  {
   "cell_type": "markdown",
   "id": "a6c2fd08-0b3d-4945-8a3c-669856dcece9",
   "metadata": {},
   "source": [
    "Name: Tanaya Pawar\n",
    "Netid : tp2623"
   ]
  },
  {
   "cell_type": "markdown",
   "id": "e5bc9bfb-8ce8-40cc-9bdc-4c535a218d9f",
   "metadata": {},
   "source": [
    "Data Science Bootcamp assignment 1"
   ]
  },
  {
   "cell_type": "markdown",
   "id": "0c435b6c-28a9-451e-babe-79508c88c097",
   "metadata": {},
   "source": [
    "1. ⁠Display Fibonacci Series upto 10 terms"
   ]
  },
  {
   "cell_type": "code",
   "execution_count": 29,
   "id": "0e91d747-d9fb-4034-b2aa-eb8106c403ac",
   "metadata": {},
   "outputs": [
    {
     "name": "stdout",
     "output_type": "stream",
     "text": [
      "[0, 1, 1, 2, 3, 5, 8, 13, 21, 34]\n"
     ]
    }
   ],
   "source": [
    "def fibonacci(n): # a function named fibonacci which takes input as n\n",
    "    fib_series = [] # initializing an empty list \n",
    "    a, b = 0, 1 # starting with 0 and 1\n",
    "    while len(fib_series) < n: #loops till fib_series is less than n\n",
    "        fib_series.append(a) # adds a to the list\n",
    "        a, b = b, a + b # updates a=b and b=a+b, and again goes in the loop untill n\n",
    "    return fib_series\n",
    "print(fibonacci(10))"
   ]
  },
  {
   "cell_type": "markdown",
   "id": "80b38721-e13b-45e4-a7be-3089f6e1bc85",
   "metadata": {},
   "source": [
    "2. Display numbers at the odd indices of a list"
   ]
  },
  {
   "cell_type": "code",
   "execution_count": 30,
   "id": "7f784082-20b5-487b-be24-76ad80ad714c",
   "metadata": {},
   "outputs": [
    {
     "name": "stdout",
     "output_type": "stream",
     "text": [
      "[2, 4, 6, 8]\n"
     ]
    }
   ],
   "source": [
    "def odd_indices(numbers): # function will take list numbers as input\n",
    "    return [numbers[i] for i in range(1, len(numbers), 2)] #starts from index 1 and increments by 2 each time\n",
    "print(odd_indices([1, 2, 3, 4, 5, 6, 7, 8, 9]))\n"
   ]
  },
  {
   "cell_type": "markdown",
   "id": "f7d8fc9e-e060-4dbc-b2be-0d4ff4fb6410",
   "metadata": {},
   "source": [
    "⁠3. string = \"\"\"\n",
    "I have provided this text to provide tips on creating interesting paragraphs.\n",
    "First, start with a clear topic sentence that introduces the main idea.\n",
    "Then, support the topic sentence with specific details, examples, and evidence.\n",
    "Vary the sentence length and structure to keep the reader engaged.\n",
    "Finally, end with a strong concluding sentence that summarizes the main points.\n",
    "Remember, practice makes perfect!\n",
    "\"\"\"\n",
    "#Your task is to count the number of different words in this text"
   ]
  },
  {
   "cell_type": "code",
   "execution_count": 31,
   "id": "0328824b-37a4-4f4b-be0f-b782089ddded",
   "metadata": {},
   "outputs": [],
   "source": [
    "def count_unique_words(text): #function takes string text as input\n",
    "    words = text.lower().split() #converts it into lower case and then splits it into wordds\n",
    "    return len(set(words)) # stores in a set removing duplicates and returns the count of unique words"
   ]
  },
  {
   "cell_type": "code",
   "execution_count": 32,
   "id": "55b405f7-6eae-422b-820d-9f18e3d3d003",
   "metadata": {},
   "outputs": [
    {
     "name": "stdout",
     "output_type": "stream",
     "text": [
      "Unique Words Count: 47\n"
     ]
    }
   ],
   "source": [
    "text = \"\"\"\n",
    "I have provided this text to provide tips on creating interesting paragraphs.\n",
    "First, start with a clear topic sentence that introduces the main idea.\n",
    "Then, support the topic sentence with specific details, examples, and evidence.\n",
    "Vary the sentence length and structure to keep the reader engaged.\n",
    "Finally, end with a strong concluding sentence that summarizes the main points.\n",
    "Remember, practice makes perfect!\n",
    "\"\"\"\n",
    "print(\"Unique Words Count:\", count_unique_words(text))"
   ]
  },
  {
   "cell_type": "markdown",
   "id": "f169678f-7531-44bd-a3fc-1a028209ce02",
   "metadata": {},
   "source": [
    "4. Write a function count_vowels(word) that takes a word as an argument and returns the number of vowels in the word"
   ]
  },
  {
   "cell_type": "code",
   "execution_count": 38,
   "id": "6d37c18d-ecc4-4331-a2fd-d6badf3ea514",
   "metadata": {},
   "outputs": [
    {
     "data": {
      "text/plain": [
       "12"
      ]
     },
     "execution_count": 38,
     "metadata": {},
     "output_type": "execute_result"
    }
   ],
   "source": [
    "def count_vowels(word): #function \n",
    "    vowels = 'aeiouAEIOU' # string containing all the vowels in lower and uppercase\n",
    "    return sum(1 for letter in word if letter in vowels) #sum() to count the vowels in the word\n",
    "count_vowels('Tanaya Pawar is doing an assignment ')\n"
   ]
  },
  {
   "cell_type": "markdown",
   "id": "2005a06c-b799-4341-be23-67dd4489c4fe",
   "metadata": {},
   "source": [
    "5. Iterate through the following list of animals and print each one in all caps.\n",
    "animals=['tiger', 'elephant', 'monkey', 'zebra', 'panther']"
   ]
  },
  {
   "cell_type": "code",
   "execution_count": 34,
   "id": "f5666202-51aa-471d-b4a0-6b1750c572ac",
   "metadata": {},
   "outputs": [
    {
     "data": {
      "text/plain": [
       "['TIGER', 'ELEPHANT', 'MONKEY', 'ZEBRA', 'PANTHER']"
      ]
     },
     "execution_count": 34,
     "metadata": {},
     "output_type": "execute_result"
    }
   ],
   "source": [
    "def printing_animals(animals):\n",
    "    return [animal.upper() for animal in animals]\n",
    "printing_animals(['tiger', 'elephant', 'monkey', 'zebra', 'panther'])\n"
   ]
  },
  {
   "cell_type": "markdown",
   "id": "06ec6b2f-3609-40c0-a919-4d93d5e7a498",
   "metadata": {},
   "source": [
    "6. Write a program that iterates from 1 to 20, printing each number and whether it's odd or even."
   ]
  },
  {
   "cell_type": "code",
   "execution_count": 35,
   "id": "6d55832f-e688-42d1-91fb-4f8dead6ed67",
   "metadata": {},
   "outputs": [
    {
     "name": "stdout",
     "output_type": "stream",
     "text": [
      "[(1, 'Odd'), (2, 'Even'), (3, 'Odd'), (4, 'Even'), (5, 'Odd'), (6, 'Even'), (7, 'Odd'), (8, 'Even'), (9, 'Odd'), (10, 'Even'), (11, 'Odd'), (12, 'Even'), (13, 'Odd'), (14, 'Even'), (15, 'Odd'), (16, 'Even'), (17, 'Odd'), (18, 'Even'), (19, 'Odd'), (20, 'Even')]\n"
     ]
    }
   ],
   "source": [
    "def odd_even():\n",
    "    return [(i, \"Odd\" if i % 2 != 0 else \"Even\") for i in range(1, 21)]\n",
    "print (odd_even())"
   ]
  },
  {
   "cell_type": "markdown",
   "id": "62c9242d-753f-4441-b3bf-0c72e9bfcbfc",
   "metadata": {},
   "source": [
    "7. ⁠Write a function sum_of_integers(a, b) that takes two integers as input from the user and returns their sum."
   ]
  },
  {
   "cell_type": "code",
   "execution_count": 36,
   "id": "aed7ffff-20b4-47a1-8dd4-5e473f3d054b",
   "metadata": {},
   "outputs": [
    {
     "name": "stdout",
     "output_type": "stream",
     "text": [
      "20\n"
     ]
    }
   ],
   "source": [
    "def sum_of_integers(a, b):\n",
    "    return a + b\n",
    "print(sum_of_integers(8, 12))"
   ]
  },
  {
   "cell_type": "code",
   "execution_count": 37,
   "id": "74d6445b-16b0-4a72-9330-6768ee7f47b5",
   "metadata": {},
   "outputs": [
    {
     "name": "stdin",
     "output_type": "stream",
     "text": [
      "Integer a:  10\n",
      "Integer b:  20\n"
     ]
    },
    {
     "name": "stdout",
     "output_type": "stream",
     "text": [
      "The sum of 10 and 20 is: 30\n"
     ]
    }
   ],
   "source": [
    "#taking input from the user:\n",
    "def sum_of_integers(a,b):\n",
    "    return a+b\n",
    "a = int(input(\"Integer a: \"))\n",
    "b = int(input(\"Integer b: \"))\n",
    "result = sum_of_integers(a, b)\n",
    "print(f\"The sum of {a} and {b} is: {result}\")"
   ]
  },
  {
   "cell_type": "code",
   "execution_count": null,
   "id": "94d3e0e1-0714-420f-afa0-28011e62a628",
   "metadata": {},
   "outputs": [],
   "source": []
  }
 ],
 "metadata": {
  "kernelspec": {
   "display_name": "Python 3 (ipykernel)",
   "language": "python",
   "name": "python3"
  },
  "language_info": {
   "codemirror_mode": {
    "name": "ipython",
    "version": 3
   },
   "file_extension": ".py",
   "mimetype": "text/x-python",
   "name": "python",
   "nbconvert_exporter": "python",
   "pygments_lexer": "ipython3",
   "version": "3.12.4"
  }
 },
 "nbformat": 4,
 "nbformat_minor": 5
}
