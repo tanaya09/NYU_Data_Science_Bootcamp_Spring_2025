{
 "cells": [
  {
   "cell_type": "markdown",
   "id": "c7f4b061-43f9-447b-9782-899a0a0ff03e",
   "metadata": {},
   "source": [
    "Name: Tanaya Pawar Netid : tp2623"
   ]
  },
  {
   "cell_type": "markdown",
   "id": "a4ff5545-12b6-46d1-a2eb-06a651c8061e",
   "metadata": {},
   "source": [
    "Data Science Bootcamp assignment 3"
   ]
  },
  {
   "cell_type": "code",
   "execution_count": null,
   "id": "b6343cf7-89db-4434-9054-614da606a467",
   "metadata": {},
   "outputs": [],
   "source": []
  },
  {
   "cell_type": "code",
   "execution_count": 8,
   "id": "59b61f18-bc6c-442f-bd08-a599aa94ae32",
   "metadata": {},
   "outputs": [],
   "source": [
    "import sqlite3\n",
    "conn = sqlite3.connect(':memory:')\n",
    "cursor = conn.cursor()\n"
   ]
  },
  {
   "cell_type": "code",
   "execution_count": 9,
   "id": "ba74fe9a-e551-45b8-a436-8f676af63002",
   "metadata": {},
   "outputs": [
    {
     "data": {
      "text/plain": [
       "<sqlite3.Cursor at 0x103baca40>"
      ]
     },
     "execution_count": 9,
     "metadata": {},
     "output_type": "execute_result"
    }
   ],
   "source": [
    "# Creating SALES table\n",
    "cursor.execute('''\n",
    "CREATE TABLE SALES (\n",
    "    Date TEXT,\n",
    "    Order_id INTEGER,\n",
    "    Item_id INTEGER,\n",
    "    Customer_id INTEGER,\n",
    "    Quantity INTEGER,\n",
    "    Revenue REAL\n",
    ")\n",
    "''')\n",
    "\n",
    "# Creating ITEMS table\n",
    "cursor.execute('''\n",
    "CREATE TABLE ITEMS (\n",
    "    Item_id INTEGER,\n",
    "    Item_name TEXT,\n",
    "    Price REAL,\n",
    "    department TEXT\n",
    ")\n",
    "''')\n",
    "\n",
    "# Creating CUSTOMERS table\n",
    "cursor.execute('''\n",
    "CREATE TABLE CUSTOMERS (\n",
    "    Customer_id INTEGER,\n",
    "    First_name TEXT,\n",
    "    Last_name TEXT,\n",
    "    Address TEXT\n",
    ")\n",
    "''')\n"
   ]
  },
  {
   "cell_type": "code",
   "execution_count": 10,
   "id": "ef756110-67f8-43fc-9a97-66a7e1b134dd",
   "metadata": {},
   "outputs": [],
   "source": [
    "# Insert data into SALES table\n",
    "cursor.executemany('''\n",
    "INSERT INTO SALES (Date, Order_id, Item_id, Customer_id, Quantity, Revenue) VALUES (?, ?, ?, ?, ?, ?)\n",
    "''', [\n",
    "    ('2023-03-18', 1, 1, 1, 2, 200),\n",
    "    ('2023-03-18', 2, 2, 2, 1, 100),\n",
    "    ('2023-01-15', 3, 3, 1, 3, 300)\n",
    "])\n",
    "\n",
    "# Insert data into ITEMS table\n",
    "cursor.executemany('''\n",
    "INSERT INTO ITEMS (Item_id, Item_name, Price, department) VALUES (?, ?, ?, ?)\n",
    "''', [\n",
    "    (1, 'Item A', 100.0, 'Electronics'),\n",
    "    (2, 'Item B', 100.0, 'Books'),\n",
    "    (3, 'Item C', 100.0, 'Clothing')\n",
    "])\n",
    "\n",
    "# Insert data into CUSTOMERS table\n",
    "cursor.executemany('''\n",
    "INSERT INTO CUSTOMERS (Customer_id, First_name, Last_name, Address) VALUES (?, ?, ?, ?)\n",
    "''', [\n",
    "    (1, 'John', 'Doe', '123 Elm St'),\n",
    "    (2, 'Jane', 'Smith', '456 Oak St')\n",
    "])\n",
    "\n",
    "# Commit changes to the database\n",
    "conn.commit()\n"
   ]
  },
  {
   "cell_type": "code",
   "execution_count": 11,
   "id": "181348f6-e431-4b8a-8fd6-5cae0f4a1237",
   "metadata": {},
   "outputs": [
    {
     "name": "stdout",
     "output_type": "stream",
     "text": [
      "Total Orders on March 18th: 2\n"
     ]
    }
   ],
   "source": [
    "# Query for total orders on March 18th\n",
    "cursor.execute('SELECT COUNT(DISTINCT Order_id) AS total_orders FROM SALES WHERE Date = \"2023-03-18\"')\n",
    "total_orders = cursor.fetchone()[0]\n",
    "print(\"Total Orders on March 18th:\", total_orders)\n",
    "\n",
    "\n",
    "\n"
   ]
  },
  {
   "cell_type": "code",
   "execution_count": 12,
   "id": "64ac70f8-df71-4dbd-9016-316b0959ba95",
   "metadata": {},
   "outputs": [
    {
     "name": "stdout",
     "output_type": "stream",
     "text": [
      "John Doe Orders on March 18th: 1\n"
     ]
    }
   ],
   "source": [
    "# Query for John Doe orders on 18th March 2023\n",
    "cursor.execute('''\n",
    "SELECT COUNT(DISTINCT s.Order_id) AS john_doe_orders\n",
    "FROM SALES s\n",
    "JOIN CUSTOMERS c ON s.Customer_id = c.Customer_id\n",
    "WHERE s.Date = \"2023-03-18\" AND c.First_name = \"John\" AND c.Last_name = \"Doe\"\n",
    "''')\n",
    "john_doe_orders = cursor.fetchone()[0]\n",
    "print(\"John Doe Orders on March 18th:\", john_doe_orders)\n"
   ]
  },
  {
   "cell_type": "code",
   "execution_count": 13,
   "id": "378220dd-fb9e-4254-a291-8f4383a372e3",
   "metadata": {},
   "outputs": [
    {
     "name": "stdout",
     "output_type": "stream",
     "text": [
      "January Customers: 1 Average Spend: 300.0\n"
     ]
    }
   ],
   "source": [
    "# Query for total customers who purchased in January 2023 and their average spend\n",
    "cursor.execute('''\n",
    "SELECT COUNT(DISTINCT Customer_id) AS total_customers, AVG(total_spend) AS avg_spend_per_customer\n",
    "FROM (\n",
    "    SELECT Customer_id, SUM(Revenue) AS total_spend\n",
    "    FROM SALES\n",
    "    WHERE Date BETWEEN \"2023-01-01\" AND \"2023-01-31\"\n",
    "    GROUP BY Customer_id\n",
    ") AS customer_totals\n",
    "''')\n",
    "january_customers = cursor.fetchone()\n",
    "print(\"January Customers:\", january_customers[0], \"Average Spend:\", january_customers[1])"
   ]
  },
  {
   "cell_type": "code",
   "execution_count": 14,
   "id": "54a2b8e9-c65f-48b4-a7a6-d1dbdadc9ee5",
   "metadata": {},
   "outputs": [
    {
     "name": "stdout",
     "output_type": "stream",
     "text": [
      "Departments with Less Than $600 in Revenue in 2022:\n"
     ]
    }
   ],
   "source": [
    "# Query departments generating less than $600 in 2022\n",
    "query_low_revenue_departments = '''\n",
    "SELECT i.department, SUM(s.Revenue) AS total_revenue\n",
    "FROM SALES s\n",
    "JOIN ITEMS i ON s.Item_id = i.Item_id\n",
    "WHERE strftime('%Y', s.Date) = '2022'\n",
    "GROUP BY i.department\n",
    "HAVING total_revenue < 600;\n",
    "'''\n",
    "cursor.execute(query_low_revenue_departments)\n",
    "low_revenue_departments = cursor.fetchall()\n",
    "# Display departments with less than $600 in revenue in 2022\n",
    "print(\"Departments with Less Than $600 in Revenue in 2022:\")\n",
    "for dept in low_revenue_departments:\n",
    "    print(dept[0], \"with revenue\", dept[1])\n",
    "\n"
   ]
  },
  {
   "cell_type": "code",
   "execution_count": 16,
   "id": "55c03833-af2b-4212-b32c-cb03fdac0808",
   "metadata": {},
   "outputs": [
    {
     "name": "stdout",
     "output_type": "stream",
     "text": [
      "Maximum Revenue from an Order: 300.0\n",
      "Minimum Revenue from an Order: 100.0\n"
     ]
    }
   ],
   "source": [
    "# Query for maximum and minimum revenue from an order\n",
    "query_revenue_range = '''\n",
    "SELECT MAX(Revenue) AS max_revenue, MIN(Revenue) AS min_revenue\n",
    "FROM SALES;\n",
    "'''\n",
    "cursor.execute(query_revenue_range)\n",
    "revenue_range = cursor.fetchone()\n",
    "# Display the most and least revenue from an order\n",
    "print(\"Maximum Revenue from an Order:\", revenue_range[0])\n",
    "print(\"Minimum Revenue from an Order:\", revenue_range[1])\n"
   ]
  },
  {
   "cell_type": "code",
   "execution_count": 17,
   "id": "32873e59-ac97-4af5-a0ef-241750936f36",
   "metadata": {},
   "outputs": [
    {
     "name": "stdout",
     "output_type": "stream",
     "text": [
      "Details of the Most Lucrative Order:\n",
      "Order ID: 3 Item ID: 3 Customer ID: 1 Quantity: 3 Revenue: 300.0\n"
     ]
    }
   ],
   "source": [
    "# Query for details of the most lucrative order\n",
    "query_most_lucrative_order = '''\n",
    "SELECT *\n",
    "FROM SALES\n",
    "WHERE Revenue = (SELECT MAX(Revenue) FROM SALES);\n",
    "'''\n",
    "cursor.execute(query_most_lucrative_order)\n",
    "most_lucrative_orders = cursor.fetchall()\n",
    "# Display details of the most lucrative order\n",
    "print(\"Details of the Most Lucrative Order:\")\n",
    "for order in most_lucrative_orders:\n",
    "    print(\"Order ID:\", order[1], \"Item ID:\", order[2], \"Customer ID:\", order[3], \"Quantity:\", order[4], \"Revenue:\", order[5])\n"
   ]
  },
  {
   "cell_type": "code",
   "execution_count": null,
   "id": "1bc5105d-a2ff-4e15-b274-f56af66b728e",
   "metadata": {},
   "outputs": [],
   "source": []
  }
 ],
 "metadata": {
  "kernelspec": {
   "display_name": "Python 3 (ipykernel)",
   "language": "python",
   "name": "python3"
  },
  "language_info": {
   "codemirror_mode": {
    "name": "ipython",
    "version": 3
   },
   "file_extension": ".py",
   "mimetype": "text/x-python",
   "name": "python",
   "nbconvert_exporter": "python",
   "pygments_lexer": "ipython3",
   "version": "3.12.4"
  }
 },
 "nbformat": 4,
 "nbformat_minor": 5
}
