{
 "cells": [
  {
   "cell_type": "markdown",
   "id": "80055840-2ddc-41a6-9326-8836220d4456",
   "metadata": {},
   "source": [
    "Name: Tanaya Pawar Netid : tp2623"
   ]
  },
  {
   "cell_type": "markdown",
   "id": "5db62d58-f3e4-4f23-b540-283ee534ee92",
   "metadata": {},
   "source": [
    "Data Science Bootcamp assignment 2"
   ]
  },
  {
   "cell_type": "markdown",
   "id": "99bbcafe-e6e9-4a3c-a3f5-bafecf551bde",
   "metadata": {},
   "source": [
    "1. ⁠Define two custom numpy arrays, say A and B. Generate two new numpy arrays by stacking A and B vertically and horizontally.\n"
   ]
  },
  {
   "cell_type": "code",
   "execution_count": 13,
   "id": "a511a8f0-b823-46f7-8f34-ad58e25ce02c",
   "metadata": {},
   "outputs": [],
   "source": [
    "import numpy as np\n",
    "import pandas as pd"
   ]
  },
  {
   "cell_type": "code",
   "execution_count": 14,
   "id": "bd280a32-3d14-42fe-8fd7-a80c7fce893f",
   "metadata": {},
   "outputs": [],
   "source": [
    "url = 'https://archive.ics.uci.edu/ml/machine-learning-databases/iris/iris.data'\n",
    "iris_2d = np.genfromtxt(url, delimiter=',', dtype='float', usecols=[0,1,2,3])"
   ]
  },
  {
   "cell_type": "code",
   "execution_count": 24,
   "id": "89a473ba-633d-4ad0-a1b5-bca571a2ce66",
   "metadata": {},
   "outputs": [
    {
     "name": "stdout",
     "output_type": "stream",
     "text": [
      "[[1 2 3 5 6]\n",
      " [5 3 7 6 8]]\n",
      "[1 2 3 5 6 5 3 7 6 8]\n"
     ]
    }
   ],
   "source": [
    "A = np.array([1, 2, 3, 5, 6])\n",
    "B = np.array([5, 3, 7, 6, 8])\n",
    "vertical_AB = np.vstack((A, B))\n",
    "horizontal_AB = np.hstack((A, B))\n",
    "print( vertical_AB)\n",
    "print( horizontal_AB)\n"
   ]
  },
  {
   "cell_type": "markdown",
   "id": "3de312a5-33aa-4be6-b5f4-e73c65fac1b7",
   "metadata": {},
   "source": [
    " ⁠2. Find common elements between A and B."
   ]
  },
  {
   "cell_type": "code",
   "execution_count": 25,
   "id": "df394f9c-5f58-49d6-967a-ea1509e8c923",
   "metadata": {},
   "outputs": [
    {
     "name": "stdout",
     "output_type": "stream",
     "text": [
      "[3 5 6]\n"
     ]
    }
   ],
   "source": [
    "common_elements = np.intersect1d(A, B)\n",
    "print(common_elements)"
   ]
  },
  {
   "cell_type": "markdown",
   "id": "69208bec-8b90-4cef-8422-9b0503f3d251",
   "metadata": {},
   "source": [
    "3. Extract all numbers from A which are within a specific range. eg between 5 and 10."
   ]
  },
  {
   "cell_type": "code",
   "execution_count": 26,
   "id": "2abcca45-cab1-481f-a247-39bed7395aa5",
   "metadata": {},
   "outputs": [
    {
     "name": "stdout",
     "output_type": "stream",
     "text": [
      "[5 6]\n"
     ]
    }
   ],
   "source": [
    "filtered_numbers = A[(A >= 5) & (A <= 10)]\n",
    "print(filtered_numbers)"
   ]
  },
  {
   "cell_type": "markdown",
   "id": "bd8d4a34-56fd-4756-ac21-3fe4571ef9b0",
   "metadata": {},
   "source": [
    "4. Filter the rows of iris_2d that has petallength (3rd column) > 1.5 and sepallength (1st column) < 5.0"
   ]
  },
  {
   "cell_type": "code",
   "execution_count": 28,
   "id": "013e6edc-e23b-4526-9be8-265da4f60213",
   "metadata": {},
   "outputs": [
    {
     "name": "stdout",
     "output_type": "stream",
     "text": [
      "[[4.8 3.4 1.6 0.2]\n",
      " [4.8 3.4 1.9 0.2]\n",
      " [4.7 3.2 1.6 0.2]\n",
      " [4.8 3.1 1.6 0.2]\n",
      " [4.9 2.4 3.3 1. ]\n",
      " [4.9 2.5 4.5 1.7]]\n"
     ]
    }
   ],
   "source": [
    "filtered_iris = iris_2d[(iris_2d[:, 2] > 1.5) & (iris_2d[:, 0] < 5.0)]\n",
    "print(filtered_iris)"
   ]
  },
  {
   "cell_type": "markdown",
   "id": "9375e7ad-9a15-4307-9c3e-876942c4572c",
   "metadata": {},
   "source": [
    "5. From df filter the 'Manufacturer', 'Model' and 'Type' for every 20th row starting from 1st (row 0)."
   ]
  },
  {
   "cell_type": "code",
   "execution_count": 29,
   "id": "80e0eed2-43ad-4a3c-a046-15f80e7078d0",
   "metadata": {},
   "outputs": [
    {
     "name": "stdout",
     "output_type": "stream",
     "text": [
      "   Manufacturer    Model     Type\n",
      "0         Acura  Integra    Small\n",
      "20     Chrysler  LeBaron  Compact\n",
      "40        Honda  Prelude   Sporty\n",
      "60      Mercury   Cougar  Midsize\n",
      "80       Subaru   Loyale    Small\n"
     ]
    }
   ],
   "source": [
    "df = pd.read_csv('https://raw.githubusercontent.com/selva86/datasets/master/Cars93_miss.csv')\n",
    "selected_columns = ['Manufacturer', 'Model', 'Type']\n",
    "\n",
    "filtered_cars = df.loc[df.index[::20], selected_columns]\n",
    "print(filtered_cars)"
   ]
  },
  {
   "cell_type": "markdown",
   "id": "0d01896a-e14b-4e19-8660-40c44c861995",
   "metadata": {},
   "source": [
    "Replace missing values in Min.Price and Max.Price columns with their respective mean."
   ]
  },
  {
   "cell_type": "code",
   "execution_count": 30,
   "id": "e4090fca-f36f-4e34-9021-a6ad6de0d8f0",
   "metadata": {},
   "outputs": [
    {
     "name": "stdout",
     "output_type": "stream",
     "text": [
      "   Min.Price  Max.Price\n",
      "0  12.900000  18.800000\n",
      "1  29.200000  38.700000\n",
      "2  25.900000  32.300000\n",
      "3  17.118605  44.600000\n",
      "4  17.118605  21.459091\n",
      "Min.Price    0\n",
      "Max.Price    0\n",
      "dtype: int64\n"
     ]
    }
   ],
   "source": [
    "df = pd.read_csv('https://raw.githubusercontent.com/selva86/datasets/master/Cars93_miss.csv')\n",
    "import pandas as pd\n",
    "\n",
    "\n",
    "df = pd.read_csv('https://raw.githubusercontent.com/selva86/datasets/master/Cars93_miss.csv')\n",
    "\n",
    "\n",
    "df['Min.Price'] = df['Min.Price'].fillna(df['Min.Price'].mean())\n",
    "df['Max.Price'] = df['Max.Price'].fillna(df['Max.Price'].mean())\n",
    "\n",
    "print(df[['Min.Price', 'Max.Price']].head())\n",
    "print(df[['Min.Price', 'Max.Price']].isnull().sum())"
   ]
  },
  {
   "cell_type": "markdown",
   "id": "649af8e7-4a63-4e20-907a-50063baab745",
   "metadata": {},
   "source": [
    "⁠4. How to get the rows of a dataframe with row sum > 100?"
   ]
  },
  {
   "cell_type": "code",
   "execution_count": 32,
   "id": "619162f8-a378-495d-b416-e3b5cc5651b9",
   "metadata": {},
   "outputs": [
    {
     "name": "stdout",
     "output_type": "stream",
     "text": [
      "     0   1   2   3\n",
      "0   34  22  17  33\n",
      "2   36  32  37  34\n",
      "4   37  27  39  39\n",
      "7   26  35  20  28\n",
      "9   38  31  21  26\n",
      "10  31  10  38  24\n",
      "12  26  37  13  37\n"
     ]
    }
   ],
   "source": [
    "random_df = pd.DataFrame(np.random.randint(10, 40, 60).reshape(-1, 4))\n",
    "rows_greater_than_100 = random_df[random_df.sum(axis=1) > 100]\n",
    "print(rows_greater_than_100)"
   ]
  },
  {
   "cell_type": "code",
   "execution_count": null,
   "id": "0d7519f5-89d4-4aeb-80bb-8f4422e0803c",
   "metadata": {},
   "outputs": [],
   "source": []
  }
 ],
 "metadata": {
  "kernelspec": {
   "display_name": "Python 3 (ipykernel)",
   "language": "python",
   "name": "python3"
  },
  "language_info": {
   "codemirror_mode": {
    "name": "ipython",
    "version": 3
   },
   "file_extension": ".py",
   "mimetype": "text/x-python",
   "name": "python",
   "nbconvert_exporter": "python",
   "pygments_lexer": "ipython3",
   "version": "3.12.4"
  }
 },
 "nbformat": 4,
 "nbformat_minor": 5
}
