{
 "cells": [
  {
   "cell_type": "markdown",
   "id": "fb977ce9-ef4a-4d43-9c82-b08fe05e341b",
   "metadata": {},
   "source": [
    "\n",
    "### 1. **How do you assess the statistical significance of an insight?**\n",
    "Statistical significance is typically assessed using hypothesis testing. A common approach is the Null Hypothesis Significance Testing (NHST) framework. It involves:\n",
    "- Defining a null hypothesis (e.g., no effect or difference).\n",
    "- Calculating a p-value to evaluate the likelihood of observing the data if the null hypothesis were true.\n",
    "- Comparing the p-value to a significance level (commonly \\( \\alpha = 0.05 \\)):\n",
    "  - If \\( p < \\alpha \\), reject the null hypothesis and consider the result statistically significant.\n",
    "  - If \\( p \\geq \\alpha \\), fail to reject the null hypothesis."
   ]
  },
  {
   "cell_type": "code",
   "execution_count": null,
   "id": "d53599cf-5ac9-460c-8f9a-97d11151d67b",
   "metadata": {},
   "outputs": [],
   "source": [
    "### 2. **What is the Central Limit Theorem (CLT)? Why is it important?**\n",
    "The CLT states that the sampling distribution of the sample mean (or sum) will approximate a normal distribution, regardless of the population's original distribution, provided the sample size is sufficiently large (typically \\( n \\geq 30 \\)).\n",
    "\n",
    "**Importance:**\n",
    "- It underpins many statistical methods by allowing approximations with normal distributions.\n",
    "- Facilitates hypothesis testing and construction of confidence intervals.\n",
    "- Ensures reliability of inferential statistics even when data distributions are non-normal.\n"
   ]
  },
  {
   "cell_type": "code",
   "execution_count": null,
   "id": "f15deaac-eb13-4858-980e-f7943cb1dcb2",
   "metadata": {},
   "outputs": [],
   "source": [
    "### 3. **What is statistical power?**\n",
    "Statistical power is the probability of correctly rejecting a false null hypothesis (i.e., detecting an effect when it exists). It depends on:\n",
    "- Sample size\n",
    "- Effect size\n",
    "- Significance level (\\( \\alpha \\))\n",
    "- Variability in the data\n",
    "\n",
    "High power reduces the likelihood of a Type II error (failing to detect a true effect).\n"
   ]
  },
  {
   "cell_type": "code",
   "execution_count": null,
   "id": "ab946a22-e6b4-4013-8585-3db604d83246",
   "metadata": {},
   "outputs": [],
   "source": [
    "### 4. **How do you control for biases?**\n",
    "Biases are controlled by:\n",
    "- Randomization: Assigning subjects randomly to treatment groups to neutralize confounding factors.\n",
    "- Blinding: Keeping participants or researchers unaware of group assignments to avoid bias.\n",
    "- Proper study design: Using controls and ensuring representative samples.\n",
    "- Analyzing potential biases post-hoc and adjusting the model if necessary.\n"
   ]
  },
  {
   "cell_type": "code",
   "execution_count": null,
   "id": "cf44d565-03ef-499c-b0a3-615870cc741f",
   "metadata": {},
   "outputs": [],
   "source": [
    "### 5. **What are confounding variables?**\n",
    "Confounding variables are factors that influence both the independent and dependent variables, creating a spurious association. For instance, in studying the effect of exercise on health, diet could be a confounder since it affects both exercise habits and health outcomes.\n"
   ]
  },
  {
   "cell_type": "code",
   "execution_count": null,
   "id": "a80b39a5-d3f3-4b7e-a95b-a21c04d6a7d5",
   "metadata": {},
   "outputs": [],
   "source": [
    "### 6. **What is A/B testing?**\n",
    "A/B testing is a statistical experiment comparing two groups (A and B) to determine which performs better on a specific metric. It involves:\n",
    "- Randomly assigning users to groups.\n",
    "- Applying different treatments (e.g., website design variations).\n",
    "- Analyzing outcomes using hypothesis testing to identify statistically significant differences.\n"
   ]
  },
  {
   "cell_type": "code",
   "execution_count": null,
   "id": "116a5880-b66b-4d61-9637-1e3b9c2382b2",
   "metadata": {},
   "outputs": [],
   "source": [
    "### 7. **What are confidence intervals?**\n",
    "Confidence intervals (CIs) are ranges of values within which the true population parameter is expected to fall with a specified probability (e.g., 95%). For example, a 95% CI means we are 95% confident the interval contains the true mean.\n"
   ]
  }
 ],
 "metadata": {
  "kernelspec": {
   "display_name": "Python 3 (ipykernel)",
   "language": "python",
   "name": "python3"
  },
  "language_info": {
   "codemirror_mode": {
    "name": "ipython",
    "version": 3
   },
   "file_extension": ".py",
   "mimetype": "text/x-python",
   "name": "python",
   "nbconvert_exporter": "python",
   "pygments_lexer": "ipython3",
   "version": "3.12.4"
  }
 },
 "nbformat": 4,
 "nbformat_minor": 5
}
